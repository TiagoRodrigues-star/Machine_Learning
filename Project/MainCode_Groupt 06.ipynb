{
 "cells": [
  {
   "cell_type": "markdown",
   "id": "2b10c3e1",
   "metadata": {},
   "source": [
    "# Machine Learning - Course Project"
   ]
  },
  {
   "cell_type": "markdown",
   "id": "5788dcce",
   "metadata": {},
   "source": [
    "## Group 6 - Alexandre Sobreira (59451), André Dias (59452), Nihan Ahat (Not Assigned), Tiago Rodrigues (49593)"
   ]
  },
  {
   "cell_type": "markdown",
   "id": "3fb257b7",
   "metadata": {},
   "source": [
    "# Packages"
   ]
  },
  {
   "cell_type": "code",
   "execution_count": 3,
   "id": "1944aa21",
   "metadata": {},
   "outputs": [],
   "source": [
    "import pandas as pd\n",
    "import random\n",
    "import numpy as np\n",
    "from sklearn.model_selection import train_test_split, GridSearchCV\n",
    "from sklearn.preprocessing import OneHotEncoder, StandardScaler\n",
    "from sklearn.ensemble import RandomForestRegressor\n",
    "from sklearn.metrics import explained_variance_score, mean_squared_error, max_error, mean_absolute_error\n",
    "from scipy.stats import pearsonr\n",
    "import matplotlib.pyplot as plt\n",
    "from sklearn.linear_model import LinearRegression\n",
    "from statsmodels.api import OLS, add_constant\n",
    "from xgboost import XGBRegressor\n",
    "from sklearn.neighbors import KNeighborsRegressor\n",
    "from sklearn.svm import SVR\n",
    "from sklearn.tree import DecisionTreeRegressor"
   ]
  },
  {
   "cell_type": "markdown",
   "id": "d9c8eeca",
   "metadata": {},
   "source": [
    "# Functions"
   ]
  },
  {
   "cell_type": "code",
   "execution_count": 4,
   "id": "2a9ca45d",
   "metadata": {},
   "outputs": [],
   "source": [
    "def printRegStatistics(truth, preds):\n",
    "    print(\"The RVE is: \", explained_variance_score(truth, preds))\n",
    "    #print(\"The rmse is: \", mean_squared_error(truth, preds, squared=False))\n",
    "    #corr, pval = pearsonr(truth, preds)\n",
    "    #print(\"The Correlation Score is is: %6.4f (p-value=%e)\"%(corr,pval))\n",
    "    #print(\"The Maximum Error is is: \", max_error(truth, preds))\n",
    "    #print(\"The Mean Absolute Error is: \", mean_absolute_error(truth, preds))\n",
    "    \n",
    "def truthplot(y_test, my_preds):\n",
    "    plt.figure(figsize=(3,3))\n",
    "    plt.axline([0, 0], [1, 1])\n",
    "    plt.scatter(my_preds, y_test)\n",
    "    plt.axis('square')\n",
    "    plt.grid()\n",
    "    plt.show()\n",
    "\n",
    "def keep_regions_func(dataframe):\n",
    "    regions = ['AFE','AFW','ARB','CSS','CEB','EAR','EAS','EAP','TEA','EMU','ECS','ECA','TEC','EUU','FCS','HPC','HIC','IBD','IBT','IDB','IDX','IDA','LTE','LCN','LAC','TLA','LDC','LMY','LIC','LMC','MEA','MNA','TMN','MIC','NAC','INX','OED','OSS','PSS','PST','PRE','SST','SAS','TSA','SSF','SSA','TSS','UMC','WLD']\n",
    "    for region in regions:\n",
    "        dataframe_regions = dataframe[dataframe['Country Code'] == region].index\n",
    "        dataframe = dataframe.drop(dataframe_regions)\n",
    "    dataframe = dataframe.reset_index(drop = True)\n",
    "    return dataframe\n",
    "\n",
    "def encode_func(dataframe, dataframe2):\n",
    "    encoder = OneHotEncoder(sparse = False, handle_unknown = 'ignore')\n",
    "    encoded = pd.DataFrame(encoder.fit_transform(dataframe2[['Country Name']]))\n",
    "    countries_encoding = dataframe.join(encoded)\n",
    "    return countries_encoding\n",
    "\n",
    "def diff_years_func(dataframe):\n",
    "    diff_years_df = dataframe.copy().drop(['Country Name'], axis = 1)\n",
    "    diff_years_df = diff_years_df.diff(axis = 1)\n",
    "    intermediate_df = dataframe['Country Name'].copy()\n",
    "    dataframe = pd.concat([intermediate_df, diff_years_df], axis = 1)\n",
    "    dataframe = dataframe.drop(\"1960\", axis = 1)\n",
    "    return dataframe\n",
    "\n",
    "def dataframe_melt_func(dataframe, target_variable_name):\n",
    "    list_dataframe = dataframe.columns.values.tolist()\n",
    "    list_dataframe.remove(\"Country Name\")\n",
    "    dataframe = dataframe.melt(id_vars = \"Country Name\", value_vars = list_dataframe, var_name = \"Year\", value_name = target_variable_name, col_level = None, ignore_index = True)\n",
    "    return dataframe\n",
    "    \n",
    "def extra_variables_func(dataframe, extra_variable, keep_regions):\n",
    "    extra_dataframe = pd.read_csv(extra_variable, header = 2)\n",
    "    if keep_regions == False:\n",
    "        extra_dataframe = keep_regions_func(extra_dataframe)\n",
    "    extra_dataframe.drop([\"Country Code\", \"Indicator Name\", \"Indicator Code\"], axis = 1, inplace = True)\n",
    "    extra_dataframe = dataframe_melt_func(extra_dataframe, extra_variable)\n",
    "    extra_dataframe = extra_dataframe.loc[extra_dataframe['Year'] < str(2017)]\n",
    "    dataframe = dataframe.merge(extra_dataframe, how = 'left', on = ['Country Name', 'Year'])\n",
    "    dataframe[extra_variable] = pd.to_numeric(dataframe[extra_variable])\n",
    "    return dataframe\n",
    "\n",
    "def prepare_x_test(extra_variables, countries_encoding, coutries_encoding, dataframe_2017, dataframe_2018, encoding = True):\n",
    "    X_test_2017, X_test_2018, truth_values_2017, truth_values_2018 = [], [], [], []\n",
    "    for country in coutries_encoding:\n",
    "        if encoding == True:\n",
    "            if len(extra_variables) != 0:  \n",
    "                if type(extra_variables) == str:\n",
    "                    extra_dataframe = pd.read_csv(extra_variables, header = 2)\n",
    "                    value_2017 = extra_dataframe['2017'][(extra_dataframe['Country Name'] == country)].values\n",
    "                    value_2018 = extra_dataframe['2018'][(extra_dataframe['Country Name'] == country)].values\n",
    "                    test_2017 = np.append(np.array([2017]), value_2017)\n",
    "                    test_2018 = np.append(np.array([2018]), value_2018)\n",
    "                else:\n",
    "                    value_2017, value_2018 = [], []\n",
    "                    for extra_variable in extra_variables:\n",
    "                        extra_dataframe = pd.read_csv(extra_variable, header = 2)\n",
    "                        value_2017.append(extra_dataframe['2017'][(extra_dataframe['Country Name'] == country)].values)\n",
    "                        value_2018.append(extra_dataframe['2018'][(extra_dataframe['Country Name'] == country)].values)\n",
    "                    test_2017 = np.append(np.array([2017]), np.array(value_2017))\n",
    "                    test_2018 = np.append(np.array([2018]), np.array(value_2018))\n",
    "                X_test_2017.append(np.append(test_2017, countries_encoding[countries_encoding['Country Name'] == country].copy().drop('Country Name', axis = 1).values))\n",
    "                X_test_2018.append(np.append(test_2018, countries_encoding[countries_encoding['Country Name'] == country].copy().drop('Country Name', axis = 1).values))\n",
    "            else:\n",
    "                X_test_2017.append(np.append(np.array([2017]), countries_encoding[countries_encoding['Country Name'] == country].copy().drop('Country Name', axis = 1).values))\n",
    "                X_test_2018.append(np.append(np.array([2020]), countries_encoding[countries_encoding['Country Name'] == country].copy().drop('Country Name', axis = 1).values))\n",
    "        else:\n",
    "            if len(extra_variables) != 0:  \n",
    "                if type(extra_variables) == str:\n",
    "                    extra_dataframe = pd.read_csv(extra_variables, header = 2)\n",
    "                    value_2017 = extra_dataframe['2017'][(extra_dataframe['Country Name'] == country)].values\n",
    "                    value_2018 = extra_dataframe['2018'][(extra_dataframe['Country Name'] == country)].values\n",
    "                    X_test_2017.append(np.append(np.array([2017]), value_2017))\n",
    "                    X_test_2018.append(np.append(np.array([2018]), value_2018))\n",
    "                else:\n",
    "                    value_2017, value_2018 = [], []\n",
    "                    for extra_variable in extra_variables:\n",
    "                        extra_dataframe = pd.read_csv(extra_variable, header = 2)\n",
    "                        value_2017.append(extra_dataframe['2017'][(extra_dataframe['Country Name'] == country)].values)\n",
    "                        value_2018.append(extra_dataframe['2018'][(extra_dataframe['Country Name'] == country)].values)\n",
    "                    X_test_2017.append(np.append(np.array([2017]), value_2017))\n",
    "                    X_test_2018.append(np.append(np.array([2018]), value_2018))\n",
    "            else:\n",
    "                X_test_2017.append(np.array([2017]))\n",
    "                X_test_2018.append(np.array([2018]))\n",
    "        truth_values_2017.append(dataframe_2017['2017'][dataframe_2017['Country Name'] == country].values)\n",
    "        truth_values_2018.append(dataframe_2018['2018'][dataframe_2018['Country Name'] == country].values)\n",
    "    return X_test_2017, X_test_2018, truth_values_2017, truth_values_2018\n",
    "        \n",
    "def country_encoding_df(csv_file, keep_regions = True):\n",
    "    dataframe = pd.read_csv(csv_file)\n",
    "    dataframev2 = dataframe[['Country Name','Country Code']]\n",
    "    if keep_regions == False:\n",
    "        dataframev2 = keep_regions_func(dataframev2)\n",
    "    countries_encoding = encode_func(dataframev2, dataframev2)\n",
    "    countries_encoding = countries_encoding.drop('Country Code', axis = 1)\n",
    "    return countries_encoding\n",
    "\n",
    "def maketraindataset(csv_file, target_variable_name, extra_variables, keep_regions = True, diff_years = True, encoding = True, less_years = True):\n",
    "    dataframe = pd.read_csv(csv_file)            \n",
    "    if keep_regions == False:\n",
    "        dataframe = keep_regions_func(dataframe)\n",
    "    dataframe.drop([\"Country Code\", \"Indicator Name\", \"Indicator Code\"], axis = 1, inplace = True)\n",
    "    if diff_years == True:\n",
    "        dataframe = diff_years_func(dataframe)\n",
    "    dataframe = dataframe_melt_func(dataframe, target_variable_name)\n",
    "    if len(extra_variables) != 0:  \n",
    "        if type(extra_variables) == str:\n",
    "            dataframe = extra_variables_func(dataframe, extra_variables, keep_regions)\n",
    "        else:\n",
    "            for extra_variable in extra_variables:\n",
    "                dataframe = extra_variables_func(dataframe, extra_variable, keep_regions)\n",
    "    if encoding == True:\n",
    "        dataframe = encode_func(dataframe, dataframe)\n",
    "    if less_years == True:\n",
    "        dataframe = dataframe.loc[dataframe['Year'] > str(2000)]\n",
    "    dataframe = dataframe.dropna()\n",
    "    dataframe = dataframe.reset_index(drop = True)\n",
    "    dataframe['Year'] = pd.to_numeric(dataframe['Year'])\n",
    "    y_data = dataframe[target_variable_name].copy()\n",
    "    X_data = dataframe.copy().drop([target_variable_name], axis = 1)\n",
    "    return X_data, y_data\n",
    "\n",
    "def make2017_2018(csv_file, csv_file_data, numheadercolumns, keep_regions = True, diff_years = True, encode = True):\n",
    "    dataframe = pd.read_csv(csv_file, header = numheadercolumns)\n",
    "    dataframe_data = pd.read_csv(csv_file_data)\n",
    "    if keep_regions == False:\n",
    "        dataframe = keep_regions_func(dataframe)\n",
    "        dataframe_data = keep_regions_func(dataframe_data)\n",
    "    dataframe.drop([\"Country Code\", \"Indicator Name\", \"Indicator Code\"], axis = 1, inplace = True)\n",
    "    if diff_years == True:\n",
    "        dataframe = diff_years_func(dataframe)\n",
    "    dataframe = dataframe[['Country Name', '2017', '2018']]\n",
    "    if encode == True:\n",
    "        dataframe = encode_func(dataframe, dataframe_data)\n",
    "    dataframe['2017'] = pd.to_numeric(dataframe['2017'])\n",
    "    dataframe['2018'] = pd.to_numeric(dataframe['2018'])\n",
    "    dataframe_2017 = dataframe.copy().drop('2018', axis = 1)\n",
    "    dataframe_2018 = dataframe.copy().drop('2017', axis = 1)\n",
    "    return dataframe_2017, dataframe_2018\n",
    "\n",
    "def modelfitevaluation(csv_file_data, csv_file_target, numheadercolumns, target_variable_name, model_type, chosen_countries, extra_variables, params_grid_search, keep_regions = True, diff_years = True, encoding = True, less_years = True, plots = False):\n",
    "    X_data, y_data = maketraindataset(csv_file_data, target_variable_name, extra_variables, keep_regions, diff_years, encoding, less_years)\n",
    "    dataframe_2017, dataframe_2018 = make2017_2018(csv_file_target, csv_file_data, numheadercolumns, keep_regions, diff_years, encoding)\n",
    "    countries_encoding = country_encoding_df(csv_file_data, keep_regions)\n",
    "    X_test_2017, X_test_2018, truth_values_2017, truth_values_2018 = prepare_x_test(extra_variables, countries_encoding, chosen_countries, dataframe_2017, dataframe_2018, encoding)\n",
    "    X_data = X_data.drop('Country Name', axis = 1).to_numpy()\n",
    "    y_data = y_data.to_numpy()\n",
    "    truth_values_2017 = np.squeeze(truth_values_2017)\n",
    "    truth_values_2018 = np.squeeze(truth_values_2018)\n",
    "    if len(params_grid_search) != 0:\n",
    "        gs = GridSearchCV(estimator = model_type, param_grid = params_grid_search, scoring = 'explained_variance', n_jobs = -1, cv = 10).fit(X_data, y_data)\n",
    "        print('The best model for 2017 based on explained_variance is:')\n",
    "        print(gs.best_params_)\n",
    "        predictions_2017_gs = gs.best_estimator_.predict(X_test_2017)\n",
    "        print('For the tunned model the statistics are:')\n",
    "        printRegStatistics(truth_values_2017, predictions_2017_gs)\n",
    "        if plots == True:\n",
    "            truthplot(truth_values_2017, predictions_2017_gs)\n",
    "        print('The best model for 2018 based on explained_variance is:')\n",
    "        print(gs.best_params_)\n",
    "        predictions_2018_gs = gs.best_estimator_.predict(X_test_2018)\n",
    "        print('For the tunned model the statistics are:')\n",
    "        printRegStatistics(truth_values_2018, predictions_2018_gs)\n",
    "        if plots == True:\n",
    "            truthplot(truth_values_2018, predictions_2018_gs)\n",
    "            print('These are the truth values of 2017:', truth_values_2017.astype(float))\n",
    "            print('These are the predictions of 2017:', predictions_2017_gs.astype(float))\n",
    "            print('These are the truth values of 2018:', truth_values_2018.astype(float))\n",
    "            print('These are the predictions of 2018:', predictions_2018_gs.astype(float))\n",
    "        \n",
    "    else:\n",
    "        model = model_type.fit(X_data, y_data)\n",
    "        predictions_2017 = model.predict(X_test_2017)\n",
    "        predictions_2018 = model.predict(X_test_2018)\n",
    "        print('For 2017:')\n",
    "        printRegStatistics(truth_values_2017, predictions_2017)\n",
    "        if plots == True:\n",
    "            truthplot(truth_values_2017, predictions_2017)        \n",
    "        print('For 2018:')\n",
    "        printRegStatistics(truth_values_2018, predictions_2018)\n",
    "        if plots == True:\n",
    "            truthplot(truth_values_2018, predictions_2018) \n",
    "            print('These are the truth values of 2017:', truth_values_2017.astype(float))\n",
    "            print('These are the predictions of 2017:', predictions_2017.astype(float))\n",
    "            print('These are the truth values of 2018:', truth_values_2018.astype(float))\n",
    "            print('These are the predictions of 2018:', predictions_2018.astype(float))"
   ]
  },
  {
   "cell_type": "markdown",
   "id": "3faa6b88",
   "metadata": {},
   "source": [
    "# Random Countries choosen"
   ]
  },
  {
   "cell_type": "code",
   "execution_count": 5,
   "id": "7d3d5da6",
   "metadata": {
    "scrolled": false
   },
   "outputs": [
    {
     "name": "stdout",
     "output_type": "stream",
     "text": [
      "['United States', 'Uruguay', 'Central African Republic', 'Seychelles', 'Senegal', 'Saudi Arabia', 'India', 'Lesotho', 'Luxembourg', 'Kenya']\n"
     ]
    }
   ],
   "source": [
    "# choose 10 random countries\n",
    "df = pd.read_csv('country_population.csv')\n",
    "regions = ['AFE','AFW','ARB','CSS','CEB','EAR','EAS','EAP','TEA','EMU','ECS','ECA','TEC','EUU','FCS','HPC','HIC','IBD','IBT','IDB','IDX','IDA','LTE','LCN','LAC','TLA','LDC','LMY','LIC','LMC','MEA','MNA','TMN','MIC','NAC','INX','OED','OSS','PSS','PST','PRE','SST','SAS','TSA','SSF','SSA','TSS','UMC','WLD']\n",
    "for region in regions:\n",
    "    index_list = df[df['Country Code'] == region].index\n",
    "    df = df.drop(index_list)\n",
    "chosen_countries = list(df['Country Name'].sample(n = 10, random_state = 123).values)\n",
    "print(chosen_countries)"
   ]
  },
  {
   "cell_type": "markdown",
   "id": "e176dfa6",
   "metadata": {},
   "source": [
    "# Models with one hot encoding"
   ]
  },
  {
   "cell_type": "markdown",
   "id": "fe054b14",
   "metadata": {},
   "source": [
    "#### Linear Regression"
   ]
  },
  {
   "cell_type": "code",
   "execution_count": 6,
   "id": "ea2de761",
   "metadata": {
    "scrolled": true
   },
   "outputs": [
    {
     "name": "stdout",
     "output_type": "stream",
     "text": [
      "country_population\n",
      "For 2017:\n",
      "The RVE is:  0.8657970952387285\n",
      "For 2018:\n",
      "The RVE is:  0.8607840769226619\n",
      "life_expectancy\n",
      "For 2017:\n",
      "The RVE is:  0.8048110640276782\n",
      "For 2018:\n",
      "The RVE is:  0.7864589009157704\n",
      "fertility_rate\n",
      "For 2017:\n",
      "The RVE is:  0.4437980267552343\n",
      "For 2018:\n",
      "The RVE is:  0.44301765870338483\n"
     ]
    }
   ],
   "source": [
    "# Applying dropna(), OHE to the melt datasets\n",
    "print(\"country_population\")\n",
    "modelfitevaluation(\"country_population.csv\", 'country_population_2017_2018.csv', 2, \"Country_population\", LinearRegression(), chosen_countries, [], [], True, False, True, False, False)\n",
    "print(\"life_expectancy\")\n",
    "modelfitevaluation(\"life_expectancy.csv\", 'life_expectancy_2017_2018.csv', 2, \"life_expectancy\", LinearRegression(), chosen_countries, [], [], True, False, True, False, False)\n",
    "print(\"fertility_rate\")\n",
    "modelfitevaluation(\"fertility_rate.csv\", 'fertility_rate_2017_2018.csv', 2, \"fertility_rate\", LinearRegression(), chosen_countries, [], [], True, False, True, False, False)"
   ]
  },
  {
   "cell_type": "markdown",
   "id": "0fe894c2",
   "metadata": {},
   "source": [
    "#### Random Forests"
   ]
  },
  {
   "cell_type": "code",
   "execution_count": 7,
   "id": "6aa35b96",
   "metadata": {
    "scrolled": false
   },
   "outputs": [
    {
     "name": "stdout",
     "output_type": "stream",
     "text": [
      "country_population\n",
      "For 2017:\n",
      "The RVE is:  0.9992465589937498\n"
     ]
    },
    {
     "data": {
      "image/png": "[encoded data removed]",
      "text/plain": [
       "<Figure size 300x300 with 1 Axes>"
      ]
     },
     "metadata": {},
     "output_type": "display_data"
    },
    {
     "name": "stdout",
     "output_type": "stream",
     "text": [
      "For 2018:\n",
      "The RVE is:  0.9985708564220143\n"
     ]
    },
    {
     "data": {
      "image/png": "[encoded data removed]",
      "text/plain": [
       "<Figure size 300x300 with 1 Axes>"
      ]
     },
     "metadata": {},
     "output_type": "display_data"
    },
    {
     "name": "stdout",
     "output_type": "stream",
     "text": [
      "These are the truth values of 2017: [3.25122128e+08 3.42220000e+06 4.99674100e+06 9.58430000e+04\n",
      " 1.51577930e+07 3.41931220e+07 1.35419568e+09 2.17061700e+06\n",
      " 5.96336000e+05 4.89481370e+07]\n",
      "These are the predictions of 2017: [3.22068004e+08 3.43625269e+06 4.57494766e+06 9.36804000e+04\n",
      " 1.51733372e+07 3.18168230e+07 1.31672908e+09 2.18760876e+06\n",
      " 5.73032150e+05 4.78660423e+07]\n",
      "These are the truth values of 2018: [3.26838199e+08 3.42704200e+06 5.09478000e+06 9.67620000e+04\n",
      " 1.55749090e+07 3.50181330e+07 1.36900331e+09 2.19801700e+06\n",
      " 6.07950000e+05 4.99533040e+07]\n",
      "These are the predictions of 2018: [3.22068004e+08 3.43625269e+06 4.57494766e+06 9.36804000e+04\n",
      " 1.51733372e+07 3.18168230e+07 1.31672908e+09 2.18760876e+06\n",
      " 5.73032150e+05 4.78660423e+07]\n",
      "life_expectancy\n",
      "For 2017:\n",
      "The RVE is:  0.965205187812525\n",
      "For 2018:\n",
      "The RVE is:  0.9585497355719466\n",
      "fertility_rate\n",
      "For 2017:\n",
      "The RVE is:  0.9210206431950347\n",
      "For 2018:\n",
      "The RVE is:  0.9165898862529758\n"
     ]
    }
   ],
   "source": [
    "# Applying dropna(), OHE to the melt datasets\n",
    "print(\"country_population\")\n",
    "modelfitevaluation(\"country_population.csv\", 'country_population_2017_2018.csv', 2, \"Country_population\", RandomForestRegressor(random_state = 123), chosen_countries, [], [], True, False, True, False, True)\n",
    "print(\"life_expectancy\")\n",
    "modelfitevaluation(\"life_expectancy.csv\", 'life_expectancy_2017_2018.csv', 2, \"life_expectancy\", RandomForestRegressor(random_state = 123), chosen_countries, [], [], True, False, True, False, False)\n",
    "print(\"fertility_rate\")\n",
    "modelfitevaluation(\"fertility_rate.csv\", 'fertility_rate_2017_2018.csv', 2, \"fertility_rate\", RandomForestRegressor(random_state = 123), chosen_countries, [], [], True, False, True, False, False)"
   ]
  },
  {
   "cell_type": "markdown",
   "id": "db3e89b0",
   "metadata": {},
   "source": [
    "#### XGBoost (Regression)"
   ]
  },
  {
   "cell_type": "code",
   "execution_count": 8,
   "id": "ee0e5e8a",
   "metadata": {},
   "outputs": [
    {
     "name": "stdout",
     "output_type": "stream",
     "text": [
      "country_population\n",
      "For 2017:\n",
      "The RVE is:  0.9851906059184458\n",
      "For 2018:\n",
      "The RVE is:  0.9830599130562805\n",
      "life_expectancy\n",
      "For 2017:\n",
      "The RVE is:  0.9166010412813521\n",
      "For 2018:\n",
      "The RVE is:  0.9208093340971183\n",
      "fertility_rate\n",
      "For 2017:\n",
      "The RVE is:  0.7904892355722178\n",
      "For 2018:\n",
      "The RVE is:  0.7873120356388985\n"
     ]
    }
   ],
   "source": [
    "# Applying dropna(), OHE to the melt datasets\n",
    "print(\"country_population\")\n",
    "modelfitevaluation(\"country_population.csv\", 'country_population_2017_2018.csv', 2, \"Country_population\", XGBRegressor(seed = 123), chosen_countries, [], [], True, False, True, False, False)\n",
    "print(\"life_expectancy\")\n",
    "modelfitevaluation(\"life_expectancy.csv\", 'life_expectancy_2017_2018.csv', 2, \"life_expectancy\", XGBRegressor(seed = 123), chosen_countries, [], [], True, False, True, False, False)\n",
    "print(\"fertility_rate\")\n",
    "modelfitevaluation(\"fertility_rate.csv\", 'fertility_rate_2017_2018.csv', 2, \"fertility_rate\", XGBRegressor(seed = 123), chosen_countries, [], [], True, False, True, False, False)"
   ]
  },
  {
   "cell_type": "markdown",
   "id": "741338cd",
   "metadata": {},
   "source": [
    "## Removing groups of countries"
   ]
  },
  {
   "cell_type": "markdown",
   "id": "8b57dee3",
   "metadata": {},
   "source": [
    "#### Linear Regression"
   ]
  },
  {
   "cell_type": "code",
   "execution_count": 9,
   "id": "6515acc1",
   "metadata": {},
   "outputs": [
    {
     "name": "stdout",
     "output_type": "stream",
     "text": [
      "country_population\n",
      "For 2017:\n",
      "The RVE is:  0.8657970952387289\n",
      "For 2018:\n",
      "The RVE is:  0.8607840769226625\n",
      "life_expectancy\n",
      "For 2017:\n",
      "The RVE is:  0.8045629597361676\n",
      "For 2018:\n",
      "The RVE is:  0.7860031833915503\n",
      "fertility_rate\n",
      "For 2017:\n",
      "The RVE is:  0.4437382809829342\n",
      "For 2018:\n",
      "The RVE is:  0.44295379016263614\n"
     ]
    }
   ],
   "source": [
    "# Applying dropna(), OHE, drop_groups to the melt datasets\n",
    "print(\"country_population\")\n",
    "modelfitevaluation(\"country_population.csv\", 'country_population_2017_2018.csv', 2, \"Country_population\", LinearRegression(), chosen_countries, [], [], False, False, True, False, False)\n",
    "print(\"life_expectancy\")\n",
    "modelfitevaluation(\"life_expectancy.csv\", 'life_expectancy_2017_2018.csv', 2, \"life_expectancy\", LinearRegression(), chosen_countries, [], [], False, False, True, False, False)\n",
    "print(\"fertility_rate\")\n",
    "modelfitevaluation(\"fertility_rate.csv\", 'fertility_rate_2017_2018.csv', 2, \"fertility_rate\", LinearRegression(), chosen_countries, [], [], False, False, True, False, False)"
   ]
  },
  {
   "cell_type": "markdown",
   "id": "0622a165",
   "metadata": {},
   "source": [
    "#### Random Forests"
   ]
  },
  {
   "cell_type": "code",
   "execution_count": 10,
   "id": "7c264b1f",
   "metadata": {
    "scrolled": false
   },
   "outputs": [
    {
     "name": "stdout",
     "output_type": "stream",
     "text": [
      "country_population\n",
      "For 2017:\n",
      "The RVE is:  0.9992360006732952\n",
      "For 2018:\n",
      "The RVE is:  0.9985562404129289\n",
      "life_expectancy\n",
      "For 2017:\n",
      "The RVE is:  0.9632779673350497\n",
      "For 2018:\n",
      "The RVE is:  0.9568095075533105\n",
      "fertility_rate\n",
      "For 2017:\n",
      "The RVE is:  0.921596542457477\n",
      "For 2018:\n",
      "The RVE is:  0.9172724384635254\n"
     ]
    }
   ],
   "source": [
    "# Applying dropna(), OHE, drop_groups to the melt datasets\n",
    "print(\"country_population\")\n",
    "modelfitevaluation(\"country_population.csv\", 'country_population_2017_2018.csv', 2, \"Country_population\", RandomForestRegressor(random_state = 123), chosen_countries, [], [], False, False, True, False, False)\n",
    "print(\"life_expectancy\")\n",
    "modelfitevaluation(\"life_expectancy.csv\", 'life_expectancy_2017_2018.csv', 2, \"life_expectancy\", RandomForestRegressor(random_state = 123), chosen_countries, [], [], False, False, True, False, False)\n",
    "print(\"fertility_rate\")\n",
    "modelfitevaluation(\"fertility_rate.csv\", 'fertility_rate_2017_2018.csv', 2, \"fertility_rate\", RandomForestRegressor(random_state = 123), chosen_countries, [], [], False, False, True, False, False)"
   ]
  },
  {
   "cell_type": "markdown",
   "id": "f4e9c24f",
   "metadata": {},
   "source": [
    "#### XGBoost (Regression)"
   ]
  },
  {
   "cell_type": "code",
   "execution_count": 11,
   "id": "803810f9",
   "metadata": {},
   "outputs": [
    {
     "name": "stdout",
     "output_type": "stream",
     "text": [
      "country_population\n",
      "For 2017:\n",
      "The RVE is:  0.9983334658550246\n",
      "For 2018:\n",
      "The RVE is:  0.9974371512413389\n",
      "life_expectancy\n",
      "For 2017:\n",
      "The RVE is:  0.9342831218644425\n",
      "For 2018:\n",
      "The RVE is:  0.9343796268075111\n",
      "fertility_rate\n",
      "For 2017:\n",
      "The RVE is:  0.8770957399095857\n",
      "For 2018:\n",
      "The RVE is:  0.873044231976185\n"
     ]
    }
   ],
   "source": [
    "# Applying dropna(), OHE, drop_groups to the melt datasets\n",
    "print(\"country_population\")\n",
    "modelfitevaluation(\"country_population.csv\", 'country_population_2017_2018.csv', 2, \"Country_population\", XGBRegressor(seed = 123), chosen_countries, [], [], False, False, True, False, False)\n",
    "print(\"life_expectancy\")\n",
    "modelfitevaluation(\"life_expectancy.csv\", 'life_expectancy_2017_2018.csv', 2, \"life_expectancy\", XGBRegressor(seed = 123), chosen_countries, [], [], False, False, True, False, False)\n",
    "print(\"fertility_rate\")\n",
    "modelfitevaluation(\"fertility_rate.csv\", 'fertility_rate_2017_2018.csv', 2, \"fertility_rate\", XGBRegressor(seed = 123), chosen_countries, [], [], False, False, True, False, False)"
   ]
  },
  {
   "cell_type": "markdown",
   "id": "b4e90ee3",
   "metadata": {},
   "source": [
    "## Using Deltas"
   ]
  },
  {
   "cell_type": "markdown",
   "id": "a67e752d",
   "metadata": {},
   "source": [
    "#### Linear Regression"
   ]
  },
  {
   "cell_type": "code",
   "execution_count": 12,
   "id": "015eabe0",
   "metadata": {},
   "outputs": [
    {
     "name": "stdout",
     "output_type": "stream",
     "text": [
      "country_population\n",
      "For 2017:\n",
      "The RVE is:  0.9977823311159253\n",
      "For 2018:\n",
      "The RVE is:  0.9919942132546362\n",
      "life_expectancy\n",
      "For 2017:\n",
      "The RVE is:  -0.11512510488391192\n",
      "For 2018:\n",
      "The RVE is:  0.06106955557341587\n",
      "fertility_rate\n",
      "For 2017:\n",
      "The RVE is:  -0.09063025823137116\n",
      "For 2018:\n",
      "The RVE is:  -0.42744599459264876\n"
     ]
    }
   ],
   "source": [
    "# Applying dropna(), OHE, drop_groups, deltas to the melt datasets\n",
    "print(\"country_population\")\n",
    "modelfitevaluation(\"country_population.csv\", 'country_population_2017_2018.csv', 2, \"Country_population\", LinearRegression(), chosen_countries, [], [], False, True, True, False, False)\n",
    "print(\"life_expectancy\")\n",
    "modelfitevaluation(\"life_expectancy.csv\", 'life_expectancy_2017_2018.csv', 2, \"life_expectancy\", LinearRegression(), chosen_countries, [], [], False, True, True, False, False)\n",
    "print(\"fertility_rate\")\n",
    "modelfitevaluation(\"fertility_rate.csv\", 'fertility_rate_2017_2018.csv', 2, \"fertility_rate\", LinearRegression(), chosen_countries, [], [], False, True, True, False, False)"
   ]
  },
  {
   "cell_type": "markdown",
   "id": "0049fcab",
   "metadata": {},
   "source": [
    "#### Random Forests"
   ]
  },
  {
   "cell_type": "code",
   "execution_count": 13,
   "id": "dac4635d",
   "metadata": {},
   "outputs": [
    {
     "name": "stdout",
     "output_type": "stream",
     "text": [
      "country_population\n",
      "For 2017:\n",
      "The RVE is:  0.9989274050518746\n",
      "For 2018:\n",
      "The RVE is:  0.9979232727636559\n",
      "life_expectancy\n",
      "For 2017:\n",
      "The RVE is:  0.3183722425504505\n",
      "For 2018:\n",
      "The RVE is:  0.12390207311526757\n",
      "fertility_rate\n",
      "For 2017:\n",
      "The RVE is:  -2.1773819826553007\n",
      "For 2018:\n",
      "The RVE is:  -4.465646883236452\n"
     ]
    }
   ],
   "source": [
    "# Applying dropna(), OHE, drop_groups, deltas to the melt datasets\n",
    "print(\"country_population\")\n",
    "modelfitevaluation(\"country_population.csv\", 'country_population_2017_2018.csv', 2, \"Country_population\", RandomForestRegressor(random_state = 123), chosen_countries, [], [], False, True, True, False, False)\n",
    "print(\"life_expectancy\")\n",
    "modelfitevaluation(\"life_expectancy.csv\", 'life_expectancy_2017_2018.csv', 2, \"life_expectancy\", RandomForestRegressor(random_state = 123), chosen_countries, [], [], False, True, True, False, False)\n",
    "print(\"fertility_rate\")\n",
    "modelfitevaluation(\"fertility_rate.csv\", 'fertility_rate_2017_2018.csv', 2, \"fertility_rate\", RandomForestRegressor(random_state = 123), chosen_countries, [], [], False, True, True, False, False)"
   ]
  },
  {
   "cell_type": "markdown",
   "id": "50d6fa44",
   "metadata": {},
   "source": [
    "#### XGBoost (Regression)"
   ]
  },
  {
   "cell_type": "code",
   "execution_count": 14,
   "id": "3ace0416",
   "metadata": {},
   "outputs": [
    {
     "name": "stdout",
     "output_type": "stream",
     "text": [
      "country_population\n",
      "For 2017:\n",
      "The RVE is:  0.9985678991706611\n",
      "For 2018:\n",
      "The RVE is:  0.9976232604700943\n",
      "life_expectancy\n",
      "For 2017:\n",
      "The RVE is:  0.1752655209992936\n",
      "For 2018:\n",
      "The RVE is:  0.15908598548169728\n",
      "fertility_rate\n",
      "For 2017:\n",
      "The RVE is:  -1.290150253020855\n",
      "For 2018:\n",
      "The RVE is:  -2.907493053254485\n"
     ]
    }
   ],
   "source": [
    "# Applying dropna(), OHE, drop_groups, deltas to the melt datasets\n",
    "print(\"country_population\")\n",
    "modelfitevaluation(\"country_population.csv\", 'country_population_2017_2018.csv', 2, \"Country_population\", XGBRegressor(seed = 123), chosen_countries, [], [], False, True, True, False, False)\n",
    "print(\"life_expectancy\")\n",
    "modelfitevaluation(\"life_expectancy.csv\", 'life_expectancy_2017_2018.csv', 2, \"life_expectancy\", XGBRegressor(seed = 123), chosen_countries, [], [], False, True, True, False, False)\n",
    "print(\"fertility_rate\")\n",
    "modelfitevaluation(\"fertility_rate.csv\", 'fertility_rate_2017_2018.csv', 2, \"fertility_rate\", XGBRegressor(seed = 123), chosen_countries, [], [], False, True, True, False, False)"
   ]
  },
  {
   "cell_type": "markdown",
   "id": "e2cf080f",
   "metadata": {},
   "source": [
    "## Less data (2000 - 2016)"
   ]
  },
  {
   "cell_type": "markdown",
   "id": "9fef0461",
   "metadata": {},
   "source": [
    "#### Linear Regression"
   ]
  },
  {
   "cell_type": "code",
   "execution_count": 15,
   "id": "56b632b4",
   "metadata": {},
   "outputs": [
    {
     "name": "stdout",
     "output_type": "stream",
     "text": [
      "country_population\n",
      "For 2017:\n",
      "The RVE is:  0.9909330008825575\n",
      "For 2018:\n",
      "The RVE is:  0.976034580755055\n",
      "life_expectancy\n",
      "For 2017:\n",
      "The RVE is:  -0.019169050535840615\n",
      "For 2018:\n",
      "The RVE is:  0.19654792992885328\n",
      "fertility_rate\n",
      "For 2017:\n",
      "The RVE is:  -0.29475405952465783\n",
      "For 2018:\n",
      "The RVE is:  -0.6599938903581644\n"
     ]
    }
   ],
   "source": [
    "# Applying dropna(), OHE, drop_groups, less data to the melt datasets\n",
    "print(\"country_population\")\n",
    "modelfitevaluation(\"country_population.csv\", 'country_population_2017_2018.csv', 2, \"Country_population\", LinearRegression(), chosen_countries, [], [], False, True, True, True, False)\n",
    "print(\"life_expectancy\")\n",
    "modelfitevaluation(\"life_expectancy.csv\", 'life_expectancy_2017_2018.csv', 2, \"life_expectancy\", LinearRegression(), chosen_countries, [], [], False, True, True, True, False)\n",
    "print(\"fertility_rate\")\n",
    "modelfitevaluation(\"fertility_rate.csv\", 'fertility_rate_2017_2018.csv', 2, \"fertility_rate\", LinearRegression(), chosen_countries, [], [], False, True, True, True, False)"
   ]
  },
  {
   "cell_type": "markdown",
   "id": "e1ed3de5",
   "metadata": {},
   "source": [
    "#### Random Forests"
   ]
  },
  {
   "cell_type": "code",
   "execution_count": 16,
   "id": "8d6e50f9",
   "metadata": {},
   "outputs": [
    {
     "name": "stdout",
     "output_type": "stream",
     "text": [
      "country_population\n",
      "For 2017:\n",
      "The RVE is:  0.9989191613188637\n",
      "For 2018:\n",
      "The RVE is:  0.9979951946623377\n",
      "life_expectancy\n",
      "For 2017:\n",
      "The RVE is:  0.32631304040627573\n",
      "For 2018:\n",
      "The RVE is:  0.07741754022221004\n",
      "fertility_rate\n",
      "For 2017:\n",
      "The RVE is:  -1.9225870148675188\n",
      "For 2018:\n",
      "The RVE is:  -3.9807463111528323\n"
     ]
    }
   ],
   "source": [
    "# Applying dropna(), OHE, drop_groups, less data to the melt datasets\n",
    "print(\"country_population\")\n",
    "modelfitevaluation(\"country_population.csv\", 'country_population_2017_2018.csv', 2, \"Country_population\", RandomForestRegressor(random_state = 123), chosen_countries, [], [], False, True, True, True, False)\n",
    "print(\"life_expectancy\")\n",
    "modelfitevaluation(\"life_expectancy.csv\", 'life_expectancy_2017_2018.csv', 2, \"life_expectancy\", RandomForestRegressor(random_state = 123), chosen_countries, [], [], False, True, True, True, False)\n",
    "print(\"fertility_rate\")\n",
    "modelfitevaluation(\"fertility_rate.csv\", 'fertility_rate_2017_2018.csv', 2, \"fertility_rate\", RandomForestRegressor(random_state = 123), chosen_countries, [], [], False, True, True, True, False)"
   ]
  },
  {
   "cell_type": "markdown",
   "id": "f2115995",
   "metadata": {},
   "source": [
    "#### XGBoost (Regression)"
   ]
  },
  {
   "cell_type": "code",
   "execution_count": 17,
   "id": "1f74839a",
   "metadata": {},
   "outputs": [
    {
     "name": "stdout",
     "output_type": "stream",
     "text": [
      "country_population\n",
      "For 2017:\n",
      "The RVE is:  0.9987364065908412\n",
      "For 2018:\n",
      "The RVE is:  0.9982914317022596\n",
      "life_expectancy\n",
      "For 2017:\n",
      "The RVE is:  0.20518059698596203\n",
      "For 2018:\n",
      "The RVE is:  0.1661955046699618\n",
      "fertility_rate\n",
      "For 2017:\n",
      "The RVE is:  -1.6139866124243754\n",
      "For 2018:\n",
      "The RVE is:  -3.5767721903353147\n"
     ]
    }
   ],
   "source": [
    "# Applying dropna(), OHE, drop_groups, less data to the melt datasets\n",
    "print(\"country_population\")\n",
    "modelfitevaluation(\"country_population.csv\", 'country_population_2017_2018.csv', 2, \"Country_population\", XGBRegressor(seed = 123), chosen_countries, [], [], False, True, True, True, False)\n",
    "print(\"life_expectancy\")\n",
    "modelfitevaluation(\"life_expectancy.csv\", 'life_expectancy_2017_2018.csv', 2, \"life_expectancy\", XGBRegressor(seed = 123), chosen_countries, [], [], False, True, True, True, False)\n",
    "print(\"fertility_rate\")\n",
    "modelfitevaluation(\"fertility_rate.csv\", 'fertility_rate_2017_2018.csv', 2, \"fertility_rate\", XGBRegressor(seed = 123), chosen_countries, [], [], False, True, True, True, False)"
   ]
  },
  {
   "cell_type": "markdown",
   "id": "d537b70f",
   "metadata": {},
   "source": [
    "## Variables"
   ]
  },
  {
   "cell_type": "markdown",
   "id": "d8da4cf5",
   "metadata": {},
   "source": [
    "#### Linear Regression"
   ]
  },
  {
   "cell_type": "code",
   "execution_count": 18,
   "id": "44ce5238",
   "metadata": {},
   "outputs": [
    {
     "name": "stdout",
     "output_type": "stream",
     "text": [
      "country_population + Urban Pop\n",
      "For 2017:\n",
      "The RVE is:  0.9972559144510446\n",
      "For 2018:\n",
      "The RVE is:  0.9891563044444935\n",
      "country_population + Urban Pop + Income\n",
      "For 2017:\n",
      "The RVE is:  0.9966999205361295\n",
      "For 2018:\n",
      "The RVE is:  0.9881717653321743\n",
      "life_expectancy + Urban Pop\n",
      "For 2017:\n",
      "The RVE is:  -0.04966710193397783\n",
      "For 2018:\n",
      "The RVE is:  0.18472487649874791\n",
      "life_expectancy + Urban Pop + Income\n",
      "For 2017:\n",
      "The RVE is:  -0.054238375683421935\n",
      "For 2018:\n",
      "The RVE is:  0.19175498395325652\n",
      "fertility_rate + Urban Pop\n",
      "For 2017:\n",
      "The RVE is:  -0.2939922742144718\n",
      "For 2018:\n",
      "The RVE is:  -0.7048058129966484\n",
      "fertility_rate + Urban Pop + Income\n",
      "For 2017:\n",
      "The RVE is:  -0.28170300541430104\n",
      "For 2018:\n",
      "The RVE is:  -0.6812193199585344\n"
     ]
    }
   ],
   "source": [
    "# Applying dropna(), OHE, drop_groups, less data to the melt datasets\n",
    "print(\"country_population + Urban Pop\")\n",
    "modelfitevaluation(\"country_population.csv\", 'country_population_2017_2018.csv', 2, \"Country_population\", LinearRegression(), chosen_countries, 'urban_pop.csv', [], False, True, True, True, False)\n",
    "print(\"country_population + Urban Pop + Income\")\n",
    "modelfitevaluation(\"country_population.csv\", 'country_population_2017_2018.csv', 2, \"Country_population\", LinearRegression(), chosen_countries, ['urban_pop.csv', 'Income.csv'], [], False, True, True, True, False)\n",
    "print(\"life_expectancy + Urban Pop\")\n",
    "modelfitevaluation(\"life_expectancy.csv\", 'life_expectancy_2017_2018.csv', 2, \"life_expectancy\", LinearRegression(), chosen_countries, 'urban_pop.csv', [], False, True, True, True, False)\n",
    "print(\"life_expectancy + Urban Pop + Income\")\n",
    "modelfitevaluation(\"life_expectancy.csv\", 'life_expectancy_2017_2018.csv', 2, \"life_expectancy\", LinearRegression(), chosen_countries, ['urban_pop.csv', 'Income.csv'], [], False, True, True, True, False)\n",
    "print(\"fertility_rate + Urban Pop\")\n",
    "modelfitevaluation(\"fertility_rate.csv\", 'fertility_rate_2017_2018.csv', 2, \"Fertility_rate\", LinearRegression(), chosen_countries, 'urban_pop.csv', [], False, True, True, True, False)\n",
    "print(\"fertility_rate + Urban Pop + Income\")\n",
    "modelfitevaluation(\"fertility_rate.csv\", 'fertility_rate_2017_2018.csv', 2, \"Fertility_rate\", LinearRegression(), chosen_countries, ['urban_pop.csv', 'Income.csv'], [], False, True, True, True, False)"
   ]
  },
  {
   "cell_type": "markdown",
   "id": "c1be98f7",
   "metadata": {},
   "source": [
    "#### Random Forests"
   ]
  },
  {
   "cell_type": "code",
   "execution_count": 19,
   "id": "e604f683",
   "metadata": {},
   "outputs": [
    {
     "name": "stdout",
     "output_type": "stream",
     "text": [
      "country_population + Urban Pop\n",
      "For 2017:\n",
      "The RVE is:  0.994532254822954\n",
      "For 2018:\n",
      "The RVE is:  0.9935368891754764\n",
      "country_population + Urban Pop + Income\n",
      "For 2017:\n",
      "The RVE is:  0.9966341650993552\n",
      "For 2018:\n",
      "The RVE is:  0.9897691215016395\n",
      "life_expectancy + Urban Pop\n",
      "For 2017:\n",
      "The RVE is:  0.35181042776168536\n",
      "For 2018:\n",
      "The RVE is:  0.07069535035619756\n",
      "life_expectancy + Urban Pop + Income\n",
      "For 2017:\n",
      "The RVE is:  0.34004121267701715\n",
      "For 2018:\n",
      "The RVE is:  0.14687290056427116\n",
      "fertility_rate + Urban Pop\n",
      "For 2017:\n",
      "The RVE is:  -1.5880278171700444\n",
      "For 2018:\n",
      "The RVE is:  -3.3383862730620626\n",
      "fertility_rate + Urban Pop + Income\n",
      "For 2017:\n",
      "The RVE is:  -1.92596118060227\n",
      "For 2018:\n",
      "The RVE is:  -4.030797914756105\n"
     ]
    }
   ],
   "source": [
    "# Applying dropna(), OHE, drop_groups, less data to the melt datasets\n",
    "print(\"country_population + Urban Pop\")\n",
    "modelfitevaluation(\"country_population.csv\", 'country_population_2017_2018.csv', 2, \"Country_population\", RandomForestRegressor(random_state = 123), chosen_countries, 'urban_pop.csv', [], False, True, True, True, False)\n",
    "print(\"country_population + Urban Pop + Income\")\n",
    "modelfitevaluation(\"country_population.csv\", 'country_population_2017_2018.csv', 2, \"Country_population\", RandomForestRegressor(random_state = 123), chosen_countries, ['urban_pop.csv', 'Income.csv'], [], False, True, True, True, False)\n",
    "print(\"life_expectancy + Urban Pop\")\n",
    "modelfitevaluation(\"life_expectancy.csv\", 'life_expectancy_2017_2018.csv', 2, \"life_expectancy\", RandomForestRegressor(random_state = 123), chosen_countries, 'urban_pop.csv', [], False, True, True, True, False)\n",
    "print(\"life_expectancy + Urban Pop + Income\")\n",
    "modelfitevaluation(\"life_expectancy.csv\", 'life_expectancy_2017_2018.csv', 2, \"life_expectancy\", RandomForestRegressor(random_state = 123), chosen_countries, ['urban_pop.csv', 'Income.csv'], [], False, True, True, True, False)\n",
    "print(\"fertility_rate + Urban Pop\")\n",
    "modelfitevaluation(\"fertility_rate.csv\", 'fertility_rate_2017_2018.csv', 2, \"Fertility_rate\", RandomForestRegressor(random_state = 123), chosen_countries, 'urban_pop.csv', [], False, True, True, True, False)\n",
    "print(\"fertility_rate + Urban Pop + Income\")\n",
    "modelfitevaluation(\"fertility_rate.csv\", 'fertility_rate_2017_2018.csv', 2, \"Fertility_rate\", RandomForestRegressor(random_state = 123), chosen_countries, ['urban_pop.csv', 'Income.csv'], [], False, True, True, True, False)"
   ]
  },
  {
   "cell_type": "markdown",
   "id": "a1653a34",
   "metadata": {},
   "source": [
    "#### XGBoost (Regression)"
   ]
  },
  {
   "cell_type": "code",
   "execution_count": 20,
   "id": "48d2c655",
   "metadata": {},
   "outputs": [
    {
     "name": "stdout",
     "output_type": "stream",
     "text": [
      "country_population + Urban Pop\n",
      "For 2017:\n",
      "The RVE is:  0.9989276295853723\n",
      "For 2018:\n",
      "The RVE is:  0.8365025241265921\n",
      "country_population + Urban Pop + Income\n",
      "For 2017:\n",
      "The RVE is:  0.9988951581307675\n",
      "For 2018:\n",
      "The RVE is:  0.8368948306982968\n",
      "life_expectancy + Urban Pop\n",
      "For 2017:\n",
      "The RVE is:  0.20254545106897315\n",
      "For 2018:\n",
      "The RVE is:  0.23033338425823946\n",
      "life_expectancy + Urban Pop + Income\n",
      "For 2017:\n",
      "The RVE is:  0.2275976183070999\n",
      "For 2018:\n",
      "The RVE is:  0.11861091459864492\n",
      "fertility_rate + Urban Pop\n",
      "For 2017:\n",
      "The RVE is:  -1.194739644131837\n",
      "For 2018:\n",
      "The RVE is:  -2.737827992669195\n",
      "fertility_rate + Urban Pop + Income\n",
      "For 2017:\n",
      "The RVE is:  -1.676379942152486\n",
      "For 2018:\n",
      "The RVE is:  -3.4157701269869367\n"
     ]
    }
   ],
   "source": [
    "# Applying dropna(), OHE, drop_groups, less data to the melt datasets\n",
    "print(\"country_population + Urban Pop\")\n",
    "modelfitevaluation(\"country_population.csv\", 'country_population_2017_2018.csv', 2, \"Country_population\", XGBRegressor(seed = 123), chosen_countries, 'urban_pop.csv', [], False, True, True, True, False)\n",
    "print(\"country_population + Urban Pop + Income\")\n",
    "modelfitevaluation(\"country_population.csv\", 'country_population_2017_2018.csv', 2, \"Country_population\", XGBRegressor(seed = 123), chosen_countries, ['urban_pop.csv', 'Income.csv'], [], False, True, True, True, False)\n",
    "print(\"life_expectancy + Urban Pop\")\n",
    "modelfitevaluation(\"life_expectancy.csv\", 'life_expectancy_2017_2018.csv', 2, \"life_expectancy\", XGBRegressor(seed = 123), chosen_countries, 'urban_pop.csv', [], False, True, True, True, False)\n",
    "print(\"life_expectancy + Urban Pop + Income\")\n",
    "modelfitevaluation(\"life_expectancy.csv\", 'life_expectancy_2017_2018.csv', 2, \"life_expectancy\", XGBRegressor(seed = 123), chosen_countries, ['urban_pop.csv', 'Income.csv'], [], False, True, True, True, False)\n",
    "print(\"fertility_rate + Urban Pop\")\n",
    "modelfitevaluation(\"fertility_rate.csv\", 'fertility_rate_2017_2018.csv', 2, \"Fertility_rate\", XGBRegressor(seed = 123), chosen_countries, 'urban_pop.csv', [], False, True, True, True, False)\n",
    "print(\"fertility_rate + Urban Pop + Income\")\n",
    "modelfitevaluation(\"fertility_rate.csv\", 'fertility_rate_2017_2018.csv', 2, \"Fertility_rate\", XGBRegressor(seed = 123), chosen_countries, ['urban_pop.csv', 'Income.csv'], [], False, True, True, True, False)"
   ]
  },
  {
   "cell_type": "markdown",
   "id": "8d8122ae",
   "metadata": {},
   "source": [
    "# Grid Search"
   ]
  },
  {
   "cell_type": "code",
   "execution_count": 21,
   "id": "21f0e2e2",
   "metadata": {
    "scrolled": false
   },
   "outputs": [
    {
     "name": "stdout",
     "output_type": "stream",
     "text": [
      "The best model for 2017 based on explained_variance is:\n",
      "{'criterion': 'poisson', 'max_depth': None, 'n_estimators': 150}\n",
      "For the tunned model the statistics are:\n",
      "The RVE is:  0.9185484553105759\n"
     ]
    },
    {
     "data": {
      "image/png": "[encoded data removed]",
      "text/plain": [
       "<Figure size 300x300 with 1 Axes>"
      ]
     },
     "metadata": {},
     "output_type": "display_data"
    },
    {
     "name": "stdout",
     "output_type": "stream",
     "text": [
      "The best model for 2018 based on explained_variance is:\n",
      "{'criterion': 'poisson', 'max_depth': None, 'n_estimators': 150}\n",
      "For the tunned model the statistics are:\n",
      "The RVE is:  0.9165882653670472\n"
     ]
    },
    {
     "data": {
      "image/png": "[encoded data removed]",
      "text/plain": [
       "<Figure size 300x300 with 1 Axes>"
      ]
     },
     "metadata": {},
     "output_type": "display_data"
    },
    {
     "name": "stdout",
     "output_type": "stream",
     "text": [
      "These are the truth values of 2017: [1.7655 1.796  6.048  2.41   4.622  2.584  2.2    3.187  1.39   3.643 ]\n",
      "These are the predictions of 2017: [1.81870667 1.99746667 4.8555     2.43172    4.85737333 2.57843333\n",
      " 2.33998    3.21140667 1.49668333 3.74822667]\n",
      "These are the truth values of 2018: [1.7295 1.658  6.037  2.41   4.584  2.546  2.177  3.139  1.38   3.58  ]\n",
      "These are the predictions of 2018: [1.81870667 1.99746667 4.85788667 2.44586667 4.77532    2.58227467\n",
      " 2.33504667 3.24194    1.49524333 3.46349333]\n",
      "The best model for 2017 based on explained_variance is:\n",
      "{'copy_X': True, 'fit_intercept': True}\n",
      "For the tunned model the statistics are:\n",
      "The RVE is:  0.9740276044231367\n"
     ]
    },
    {
     "data": {
      "image/png": "[encoded data removed]",
      "text/plain": [
       "<Figure size 300x300 with 1 Axes>"
      ]
     },
     "metadata": {},
     "output_type": "display_data"
    },
    {
     "name": "stdout",
     "output_type": "stream",
     "text": [
      "The best model for 2018 based on explained_variance is:\n",
      "{'copy_X': True, 'fit_intercept': True}\n",
      "For the tunned model the statistics are:\n",
      "The RVE is:  0.9572386270288344\n"
     ]
    },
    {
     "data": {
      "image/png": "[encoded data removed]",
      "text/plain": [
       "<Figure size 300x300 with 1 Axes>"
      ]
     },
     "metadata": {},
     "output_type": "display_data"
    },
    {
     "name": "stdout",
     "output_type": "stream",
     "text": [
      "These are the truth values of 2017: [78.53902439 77.625      53.721      74.3        67.75       77.16\n",
      " 70.467      53.064      82.09512195 62.481     ]\n",
      "These are the predictions of 2017: [78.21669127 79.2066606  49.92781485 75.83274961 65.84452229 76.39458476\n",
      " 69.642775   52.60305095 83.11276446 63.18340812]\n",
      "These are the truth values of 2018: [78.63902439 77.611      54.369      72.84146341 68.097      77.212\n",
      " 70.71       53.733      82.29512195 62.676     ]\n",
      "These are the predictions of 2018: [77.91254707 79.54782334 50.27009251 76.17391737 66.18959409 76.66781242\n",
      " 70.16581864 52.94441562 83.45075746 63.52791667]\n"
     ]
    }
   ],
   "source": [
    "# fertility_Rate\n",
    "grid_fert = {'n_estimators': [50, 100, 150], 'criterion': ['squared_error', 'friedman_mse', 'poisson'], 'max_depth': [5, 10, None]}\n",
    "modelfitevaluation(\"fertility_rate.csv\", 'fertility_rate_2017_2018.csv', 2, \"fertility_rate\", RandomForestRegressor(random_state = 123), chosen_countries, ['urban_pop.csv', 'Income.csv'], grid_fert, False, False, True, True, True)\n",
    "\n",
    "# life_expectancy\n",
    "grid_exp = {'fit_intercept':[True,False], 'copy_X':[True, False]}\n",
    "modelfitevaluation(\"life_expectancy.csv\", 'life_expectancy_2017_2018.csv', 2, \"life_expectancy\", LinearRegression(), chosen_countries, ['urban_pop.csv', 'Income.csv'], grid_exp, False, False, True, True, True)\n"
   ]
  },
  {
   "cell_type": "code",
   "execution_count": null,
   "id": "ed873f2d",
   "metadata": {},
   "outputs": [],
   "source": []
  }
 ],
 "metadata": {
  "kernelspec": {
   "display_name": "Python 3 (ipykernel)",
   "language": "python",
   "name": "python3"
  },
  "language_info": {
   "codemirror_mode": {
    "name": "ipython",
    "version": 3
   },
   "file_extension": ".py",
   "mimetype": "text/x-python",
   "name": "python",
   "nbconvert_exporter": "python",
   "pygments_lexer": "ipython3",
   "version": "3.10.3"
  },
  "vscode": {
   "interpreter": {
    "hash": "0e1e614ad018733ef345c31aba18c1aa215c65ba4e7fe527bebcff098eb89a09"
   }
  }
 },
 "nbformat": 4,
 "nbformat_minor": 5
}
